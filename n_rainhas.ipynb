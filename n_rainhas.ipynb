{
  "nbformat": 4,
  "nbformat_minor": 0,
  "metadata": {
    "colab": {
      "provenance": []
    },
    "kernelspec": {
      "name": "python3",
      "display_name": "Python 3"
    },
    "language_info": {
      "name": "python"
    }
  },
  "cells": [
    {
      "cell_type": "code",
      "metadata": {
        "id": "HG9Sq2sogpQ7",
        "outputId": "bd83108b-03b5-4d10-a8d9-0196abd2ee2c",
        "colab": {
          "base_uri": "https://localhost:8080/"
        }
      },
      "source": [
        "import numpy\n",
        "qtd_colunas = 6\n",
        "qtd_linhas = 6\n",
        "solucao = 0\n",
        "tabuleiro = numpy.zeros((qtd_colunas,qtd_linhas))\n",
        "\n",
        "\n",
        "\n",
        "def possivel(x,y):\n",
        "  global tabuleiro\n",
        "  for linha in range(qtd_linhas):\n",
        "    if tabuleiro[x,linha] == 1: #mesma coluna\n",
        "      return False\n",
        "  for coluna in range(qtd_colunas):\n",
        "    if tabuleiro[coluna,y] == 1: #mesma linha\n",
        "      return False\n",
        "  for coluna in range(qtd_colunas):\n",
        "    for linha in range(qtd_linhas):\n",
        "      if abs(x-coluna) == abs(y-linha):\n",
        "        if tabuleiro[coluna,linha] == 1: #mesma diagonal\n",
        "          return False\n",
        "  return True\n",
        "\n",
        "\n",
        "def resolver(coluna): #testa a coluna\n",
        "  global tabuleiro\n",
        "  global solucao\n",
        "  for linha in range(qtd_linhas): #testa cada linha da atual coluna:\n",
        "    if possivel(linha,coluna): #se puder ocupar, ocupe\n",
        "      tabuleiro[linha,coluna] = 1\n",
        "      if coluna +1 == qtd_colunas:  #se tentar preencher fora do tabuleiro, foi encontrado solução\n",
        "        solucao += 1 \n",
        "        print(f\"Solução {solucao}:\")\n",
        "        print(tabuleiro) #mostrar solução encontrada\n",
        "      else: #se não encontrou solução, preencha próxima coluna\n",
        "        resolver(coluna+1)\n",
        "      tabuleiro[linha,coluna] = 0 #recua independente de solução \n",
        "\n",
        "\n",
        "resolver(0)\n"
      ],
      "execution_count": 1,
      "outputs": [
        {
          "output_type": "stream",
          "name": "stdout",
          "text": [
            "Solução 1:\n",
            "[[0. 0. 0. 1. 0. 0.]\n",
            " [1. 0. 0. 0. 0. 0.]\n",
            " [0. 0. 0. 0. 1. 0.]\n",
            " [0. 1. 0. 0. 0. 0.]\n",
            " [0. 0. 0. 0. 0. 1.]\n",
            " [0. 0. 1. 0. 0. 0.]]\n",
            "Solução 2:\n",
            "[[0. 0. 0. 0. 1. 0.]\n",
            " [0. 0. 1. 0. 0. 0.]\n",
            " [1. 0. 0. 0. 0. 0.]\n",
            " [0. 0. 0. 0. 0. 1.]\n",
            " [0. 0. 0. 1. 0. 0.]\n",
            " [0. 1. 0. 0. 0. 0.]]\n",
            "Solução 3:\n",
            "[[0. 1. 0. 0. 0. 0.]\n",
            " [0. 0. 0. 1. 0. 0.]\n",
            " [0. 0. 0. 0. 0. 1.]\n",
            " [1. 0. 0. 0. 0. 0.]\n",
            " [0. 0. 1. 0. 0. 0.]\n",
            " [0. 0. 0. 0. 1. 0.]]\n",
            "Solução 4:\n",
            "[[0. 0. 1. 0. 0. 0.]\n",
            " [0. 0. 0. 0. 0. 1.]\n",
            " [0. 1. 0. 0. 0. 0.]\n",
            " [0. 0. 0. 0. 1. 0.]\n",
            " [1. 0. 0. 0. 0. 0.]\n",
            " [0. 0. 0. 1. 0. 0.]]\n"
          ]
        }
      ]
    }
  ]
}